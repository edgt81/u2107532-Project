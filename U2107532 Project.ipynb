{
 "cells": [
  {
   "cell_type": "code",
   "execution_count": 1,
   "id": "ea9ee0fa",
   "metadata": {},
   "outputs": [],
   "source": [
    "import numpy as np"
   ]
  },
  {
   "cell_type": "code",
   "execution_count": 2,
   "id": "d1224b1f",
   "metadata": {},
   "outputs": [],
   "source": [
    "def water(cups):\n",
    "    a=0\n",
    "    for i in range (100):#Calculates the amount of water in each cup if they all have the same amount\n",
    "        a=a+(1/2-(2*a))/cups\n",
    "    print (a)"
   ]
  },
  {
   "cell_type": "code",
   "execution_count": 3,
   "id": "1d564c62",
   "metadata": {},
   "outputs": [
    {
     "name": "stdout",
     "output_type": "stream",
     "text": [
      "0.2499999999999994\n"
     ]
    }
   ],
   "source": [
    "water(7)"
   ]
  },
  {
   "cell_type": "code",
   "execution_count": 4,
   "id": "e569bc38",
   "metadata": {},
   "outputs": [
    {
     "name": "stdout",
     "output_type": "stream",
     "text": [
      "0.16666666666666666\n",
      "0.26666666666666666\n",
      "0.3380952380952381\n",
      "0.3936507936507937\n",
      "0.43910533910533917\n",
      "0.47756687756687766\n",
      "7\n",
      "0.510900210900211\n",
      "8\n",
      "0.5403119756060933\n"
     ]
    }
   ],
   "source": [
    "a=0\n",
    "for i in range(8):#\n",
    "    a=a+1/(2*(1+2*(1+i)))\n",
    "    if a>1/2:\n",
    "        print(i+1)\n",
    "    print(a)"
   ]
  },
  {
   "cell_type": "code",
   "execution_count": 5,
   "id": "6e22a64a",
   "metadata": {},
   "outputs": [
    {
     "name": "stdout",
     "output_type": "stream",
     "text": [
      "0.25\n",
      "0.41666666666666663\n",
      "3\n",
      "0.5416666666666666\n",
      "4\n",
      "0.6416666666666666\n",
      "5\n",
      "0.725\n"
     ]
    }
   ],
   "source": [
    "a=0\n",
    "for i in range(5):\n",
    "    a=a+1/(2*(2+i))\n",
    "    if a>1/2:\n",
    "        print(i+1)\n",
    "    print(a)"
   ]
  },
  {
   "cell_type": "code",
   "execution_count": 6,
   "id": "e6c118ba",
   "metadata": {},
   "outputs": [
    {
     "name": "stdout",
     "output_type": "stream",
     "text": [
      "0.16666666666666666\n",
      "2\n",
      "0.26666666666666666\n",
      "3\n",
      "0.3380952380952381\n",
      "4\n",
      "0.3936507936507937\n",
      "5\n",
      "0.43910533910533917\n"
     ]
    }
   ],
   "source": [
    "a=0\n",
    "for i in range(5):#This shows how many turns are need to exceed a quater added to each cup after they have been filled to a quarter, letting ALi win on their next turn\n",
    "    a=a+1/(2*(1+2*(1+i)))\n",
    "    if a>1/4:\n",
    "        print(i+1)\n",
    "    print(a)"
   ]
  },
  {
   "cell_type": "code",
   "execution_count": 4,
   "id": "de680353",
   "metadata": {},
   "outputs": [],
   "source": [
    "def game4(cups):#This game simulated the stategy 4 cups are used\n",
    "    fill=np.zeros(4)\n",
    "    print (fill)\n",
    "    b=0\n",
    "    a=0\n",
    "    Aturn=1\n",
    "    while (b==0):#Lets the player take their turn\n",
    "        if Aturn%2==1:\n",
    "            x = int(input('How much water do you want to put in glass 1?'))\n",
    "            y = int(input('How much water do you want to put in glass 2?'))\n",
    "            z = int(input('How much water do you want to put in glass 3?'))\n",
    "            w = int(input('How much water do you want to put in glass 4?'))\n",
    "            fill[0]=fill[0]+x\n",
    "            fill[1]=fill[1]+y\n",
    "            fill[2]=fill[2]+z\n",
    "            fill[3]=fill[3]+w\n",
    "            for i in range (4):\n",
    "                if fill[i]>100:\n",
    "                    a=a+1\n",
    "            if a!=0:\n",
    "                print(\"Play A (you) wins!\")\n",
    "                b=2\n",
    "            else:\n",
    "                print(fill)\n",
    "                Aturn=Aturn+1\n",
    "        if Aturn%4==0:#Empties the pairs of the cups\n",
    "            fill[0]=0\n",
    "            fill[1]=0\n",
    "            print(fill)\n",
    "            Aturn=Aturn+1\n",
    "        if Aturn%4==2:\n",
    "            fill[2]=0\n",
    "            fill[3]=0\n",
    "            print(fill)\n",
    "            Aturn=Aturn+1"
   ]
  },
  {
   "cell_type": "code",
   "execution_count": null,
   "id": "73df38b9",
   "metadata": {},
   "outputs": [
    {
     "name": "stdout",
     "output_type": "stream",
     "text": [
      "[0. 0. 0. 0.]\n"
     ]
    }
   ],
   "source": [
    "game4(4)"
   ]
  },
  {
   "cell_type": "code",
   "execution_count": null,
   "id": "2eae9485",
   "metadata": {},
   "outputs": [],
   "source": [
    "def game(cups):#This game simulated the stategy where water is added to every other cup. However, it must be played with at least 8 cups.\n",
    "    fill=np.zeros(cups)\n",
    "    print (fill)\n",
    "    b=0\n",
    "    a=0\n",
    "    Aturn=1\n",
    "    if Aturn==1:#splits the water equally between 4 of the cups\n",
    "        fill[0]=0.125\n",
    "        fill[2]=0.125        \n",
    "        fill[4]=0.125\n",
    "        fill[6]=0.125\n",
    "        print(fill)\n",
    "        Aturn=Aturn+1\n",
    "    while (b==0):#Lets the player take their turn\n",
    "        if Aturn%2==0:\n",
    "            x = int(input('Which glass do you want to empty?'))\n",
    "            y = int(input('Left(enter 0) or right(enter 1)'))\n",
    "            fill[x-1]=0\n",
    "            if y==0:\n",
    "                if x-1<1:\n",
    "                    fill[cups-1]=0\n",
    "                else:\n",
    "                    fill[x-2]=0\n",
    "                if y==1:\n",
    "                    if x+1>cups:\n",
    "                        fill[0]=0\n",
    "                    else:\n",
    "                        fill[x]=0\n",
    "            Aturn=Aturn+1\n",
    "            print(fill)\n",
    "        if Aturn!=1 and Aturn%2==1:#Adds water equally between any cups still containing water.\n",
    "            c=0\n",
    "            for i in range (cups):\n",
    "                if fill[i]!=0:\n",
    "                    c=c+1\n",
    "            p=0.5*c**(-1)\n",
    "            for i in range (cups):\n",
    "                if fill[i]!=0:\n",
    "                    fill[i]=fill[i]+p\n",
    "            for i in range (cups):\n",
    "                if fill[i]>1:\n",
    "                    a=a+1\n",
    "            if a!=0:\n",
    "                print(\"Play A (computer) wins!\")\n",
    "                b=2\n",
    "            else:\n",
    "                print(fill)\n",
    "                Aturn=Aturn+1"
   ]
  },
  {
   "cell_type": "code",
   "execution_count": null,
   "id": "dbacb3ce",
   "metadata": {},
   "outputs": [],
   "source": [
    "game(8)"
   ]
  },
  {
   "cell_type": "code",
   "execution_count": null,
   "id": "721df953",
   "metadata": {},
   "outputs": [],
   "source": []
  }
 ],
 "metadata": {
  "kernelspec": {
   "display_name": "Python 3 (ipykernel)",
   "language": "python",
   "name": "python3"
  },
  "language_info": {
   "codemirror_mode": {
    "name": "ipython",
    "version": 3
   },
   "file_extension": ".py",
   "mimetype": "text/x-python",
   "name": "python",
   "nbconvert_exporter": "python",
   "pygments_lexer": "ipython3",
   "version": "3.9.7"
  }
 },
 "nbformat": 4,
 "nbformat_minor": 5
}
